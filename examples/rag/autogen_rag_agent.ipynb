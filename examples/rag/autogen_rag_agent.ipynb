{
  "cells": [
    {
      "cell_type": "markdown",
      "metadata": {
        "id": "ysXjb6M0gkhj"
      },
      "source": [
        "<a href=\"https://colab.research.google.com/github/microsoft/autogen/blob/main/notebook/agentchat_web_info.ipynb\" target=\"_parent\"><img src=\"https://colab.research.google.com/assets/colab-badge.svg\" alt=\"Open In Colab\"/></a>\n"
      ]
    },
    {
      "cell_type": "markdown",
      "metadata": {
        "id": "39_S0tWcB-oh"
      },
      "source": [
        "# AutoGen Agents with Retrieval Augmented Generation\n"
      ]
    },
    {
      "cell_type": "markdown",
      "metadata": {
        "id": "NtvjgnBZZjUL"
      },
      "source": [
        "## Use Case\n",
        "\n",
        "In this tutorial, I will create the retrieval augmented agents with the following document:\n",
        "\n",
        "[RETRIEVAL AUGMENTED GENERATION AND REPRESENTATIVE\n",
        "VECTOR SUMMARIZATION FOR LARGE UNSTRUCTURED\n",
        "TEXTUAL DATA IN MEDICAL EDUCATION](https://arxiv.org/pdf/2308.00479.pdf)\n",
        "\n",
        "You should be able to see the agents are able to perform retrieval augmented generation based on the document above and answer question.\n"
      ]
    },
    {
      "cell_type": "markdown",
      "metadata": {
        "id": "z73o7bmtb5LH"
      },
      "source": [
        "### Environment Preparation\n"
      ]
    },
    {
      "cell_type": "code",
      "execution_count": null,
      "metadata": {
        "execution": {
          "iopub.execute_input": "2023-02-13T23:40:52.317406Z",
          "iopub.status.busy": "2023-02-13T23:40:52.316561Z",
          "iopub.status.idle": "2023-02-13T23:40:52.321193Z",
          "shell.execute_reply": "2023-02-13T23:40:52.320628Z"
        },
        "id": "1VRZnGGGgkhl"
      },
      "outputs": [],
      "source": [
        "%pip install pyautogen[retrievechat] langchain \"chromadb<0.4.15\" -q"
      ]
    },
    {
      "cell_type": "code",
      "execution_count": null,
      "metadata": {
        "id": "HZ7w_A3nXU8-"
      },
      "outputs": [],
      "source": [
        "import autogen\n",
        "\n",
        "config_list = autogen.config_list_from_json(\n",
        "    \"OAI_CONFIG_LIST\",\n",
        "    filter_dict={\n",
        "        \"model\": [\"gpt-4\"],\n",
        "    },\n",
        ")"
      ]
    },
    {
      "cell_type": "markdown",
      "metadata": {
        "id": "BA48TH6Hc_3c"
      },
      "source": [
        "### Steps\n"
      ]
    },
    {
      "cell_type": "markdown",
      "metadata": {
        "id": "rCrCnRC7cdC-"
      },
      "source": [
        "#### 1. Configure Embedding Function\n",
        "\n",
        "We will use OpenAI embedding function.\n"
      ]
    },
    {
      "cell_type": "code",
      "execution_count": null,
      "metadata": {
        "id": "c636oZ2zHNpr"
      },
      "outputs": [],
      "source": [
        "from chromadb.utils import embedding_functions\n",
        "\n",
        "openai_embedding_function = embedding_functions.OpenAIEmbeddingFunction(\n",
        "    api_key=config_list[0][\"api_key\"]\n",
        ")"
      ]
    },
    {
      "cell_type": "markdown",
      "metadata": {
        "id": "PxFsXiHVciOo"
      },
      "source": [
        "#### 2. Configure Text Splitter\n",
        "\n",
        "LangChain has done a great job in text splitting, so we will use its components.\n"
      ]
    },
    {
      "cell_type": "code",
      "execution_count": null,
      "metadata": {
        "id": "6eRvVjJITKfR"
      },
      "outputs": [],
      "source": [
        "from langchain.text_splitter import RecursiveCharacterTextSplitter\n",
        "\n",
        "text_splitter = RecursiveCharacterTextSplitter(separators=[\"\\n\\n\", \"\\n\", \"\\r\", \"\\t\"])"
      ]
    },
    {
      "cell_type": "markdown",
      "metadata": {
        "id": "O7VPXVI_coX4"
      },
      "source": [
        "#### 3. Configure Vector Store\n",
        "\n",
        "By default, the AutoGen retrieval augmented agents use `chromadb` as vector store.\n",
        "\n",
        "Developers can configure preferred vector store by extending the class `RetrieveUserProxyAgent` and overriding function `retrieve_docs`.\n",
        "\n",
        "AutoGen also supports simple configuration items to customize Chromadb storage.\n",
        "\n",
        "In this demo, we will specify the collection name by `retreive_config` item `collection_name`. You should be able to see it in step 4.\n"
      ]
    },
    {
      "cell_type": "markdown",
      "metadata": {
        "id": "Wu7gjAv-c4uP"
      },
      "source": [
        "#### 4. Create Retrieval Augmented Agents\n"
      ]
    },
    {
      "cell_type": "code",
      "execution_count": null,
      "metadata": {
        "id": "ZsXuHf1fgkhl"
      },
      "outputs": [],
      "source": [
        "from autogen.agentchat.contrib.retrieve_assistant_agent import RetrieveAssistantAgent\n",
        "from autogen.agentchat.contrib.retrieve_user_proxy_agent import RetrieveUserProxyAgent\n",
        "\n",
        "llm_config = {\"request_timeout\": 600, \"config_list\": config_list, \"temperature\": 0}\n",
        "\n",
        "assistant = RetrieveAssistantAgent(\n",
        "    name=\"assistant\",\n",
        "    system_message=\"You are a helpful assistant.\",\n",
        "    llm_config=llm_config,\n",
        ")\n",
        "\n",
        "rag_agent = RetrieveUserProxyAgent(\n",
        "    human_input_mode=\"NEVER\",\n",
        "    retrieve_config={\n",
        "        \"task\": \"qa\",\n",
        "        \"docs_path\": \"./rag.pdf\",\n",
        "        \"collection_name\": \"rag_collection\",\n",
        "        \"embedding_function\": openai_embedding_function,\n",
        "        \"custom_text_split_function\": text_splitter.split_text,\n",
        "    },\n",
        ")"
      ]
    },
    {
      "cell_type": "markdown",
      "metadata": {
        "id": "37cRtpqLdLSZ"
      },
      "source": [
        "### It's time to start a chat with the RAG agent.\n"
      ]
    },
    {
      "cell_type": "code",
      "execution_count": null,
      "metadata": {
        "colab": {
          "base_uri": "https://localhost:8080/"
        },
        "id": "aCdAqig3gkhn",
        "outputId": "d4463f2e-7dcc-4fa1-8552-b9dab3291afd"
      },
      "outputs": [],
      "source": [
        "assistant.reset()\n",
        "rag_agent.initiate_chat(\n",
        "    assistant, problem=\"What is the workflow in docGPT?\", n_results=2\n",
        ")"
      ]
    }
  ],
  "metadata": {
    "colab": {
      "include_colab_link": true,
      "provenance": []
    },
    "kernelspec": {
      "display_name": "Python 3",
      "language": "python",
      "name": "python3"
    },
    "language_info": {
      "codemirror_mode": {
        "name": "ipython",
        "version": 3
      },
      "file_extension": ".py",
      "mimetype": "text/x-python",
      "name": "python",
      "nbconvert_exporter": "python",
      "pygments_lexer": "ipython3",
      "version": "3.9.17"
    },
    "vscode": {
      "interpreter": {
        "hash": "949777d72b0d2535278d3dc13498b2535136f6dfe0678499012e853ee9abcab1"
      }
    }
  },
  "nbformat": 4,
  "nbformat_minor": 0
}
