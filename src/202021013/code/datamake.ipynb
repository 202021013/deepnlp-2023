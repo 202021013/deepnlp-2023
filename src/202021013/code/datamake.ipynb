{
 "cells": [
  {
   "cell_type": "code",
   "execution_count": null,
   "metadata": {},
   "outputs": [],
   "source": [
    "#txt파일 json으로 수정\n",
    "import json\n",
    "\n",
    "# 텍스트 파일에서 프롬프트와 답변 추출\n",
    "with open('src/202021013/code/ori_data/cyworld_combine.txt', 'r', encoding='utf-8') as file:\n",
    "    text_data = file.read()\n",
    "\n",
    "# 프롬프트와 답변을 추출하는 함수\n",
    "def extract_prompt_answer(text):\n",
    "    prompts_and_answers = text.split(\"### Prompt:\")\n",
    "    prompt_answer_list = []\n",
    "\n",
    "    for prompt_and_answer in prompts_and_answers[1:]:\n",
    "        prompt_lines = prompt_and_answer.split(\"### Answer:\")\n",
    "        prompt = prompt_lines[0].strip()\n",
    "        answer = prompt_lines[1].strip()\n",
    "        prompt_answer_list.append({\"instruction\": prompt, \"output\": answer})\n",
    "\n",
    "    return prompt_answer_list\n",
    "\n",
    "# 추출된 정보를 사용하여 JSON 파일 생성\n",
    "prompt_answer_list = extract_prompt_answer(text_data)\n",
    "\n",
    "with open('./cyworld.json', 'w', encoding='utf-8') as f:\n",
    "    json.dump(prompt_answer_list, f, ensure_ascii=False, indent=2)\n"
   ]
  },
  {
   "cell_type": "code",
   "execution_count": null,
   "metadata": {},
   "outputs": [],
   "source": [
    "#json파일을 csv로 수정\n",
    "import json\n",
    "import csv\n",
    "\n",
    "# JSON 파일 로드\n",
    "with open('src/202021013/code/ori_data/cyworld.json', 'r', encoding='utf-8') as json_file:\n",
    "    data = json.load(json_file)\n",
    "\n",
    "# CSV 파일 작성\n",
    "csv_filename = 'src/202021013/code/dataset/output.csv'\n",
    "with open(csv_filename, 'w', newline='', encoding='utf-8') as csv_file:\n",
    "    fieldnames = ['text']\n",
    "    writer = csv.DictWriter(csv_file, fieldnames=fieldnames)\n",
    "\n",
    "    # CSV 파일의 헤더 작성\n",
    "    writer.writeheader()\n",
    "\n",
    "    # JSON 데이터를 CSV로 변환하여 작성\n",
    "    for entry in data:\n",
    "        instruction = entry.get('instruction', '')\n",
    "        output = entry.get('output', '')\n",
    "\n",
    "        text = f\"### Prompt:\\n{instruction}\\n\\n### Answer:\\n{output}\"\n",
    "        writer.writerow({'text': text})\n",
    "\n",
    "print(f'CSV 파일이 생성되었습니다: {csv_filename}')\n"
   ]
  }
 ],
 "metadata": {
  "language_info": {
   "name": "python"
  }
 },
 "nbformat": 4,
 "nbformat_minor": 2
}
